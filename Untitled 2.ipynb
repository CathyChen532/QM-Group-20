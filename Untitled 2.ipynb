{
 "cells": [
  {
   "cell_type": "code",
   "execution_count": 1,
   "id": "b6925c4c-723e-4565-aed4-3687ffb545a4",
   "metadata": {},
   "outputs": [],
   "source": [
    "%matplotlib inline\n",
    "\n",
    "import matplotlib.pyplot as plt\n",
    "import numpy as np\n",
    "import pandas as pd\n",
    "\n",
    "import statsmodels.formula.api as smf\n",
    "import statsmodels"
   ]
  },
  {
   "cell_type": "code",
   "execution_count": 2,
   "id": "26c9fa1a-f883-495d-ac67-7b27ea7df5a0",
   "metadata": {},
   "outputs": [],
   "source": [
    "# Load the data as dataframe\n",
    "df_office = pd.read_csv('combined_selected_data_3.csv')"
   ]
  },
  {
   "cell_type": "code",
   "execution_count": 3,
   "id": "b8f4d282-0bb8-45dd-9ed4-af44899b0b88",
   "metadata": {},
   "outputs": [
    {
     "data": {
      "text/html": [
       "<div>\n",
       "<style scoped>\n",
       "    .dataframe tbody tr th:only-of-type {\n",
       "        vertical-align: middle;\n",
       "    }\n",
       "\n",
       "    .dataframe tbody tr th {\n",
       "        vertical-align: top;\n",
       "    }\n",
       "\n",
       "    .dataframe thead th {\n",
       "        text-align: right;\n",
       "    }\n",
       "</style>\n",
       "<table border=\"1\" class=\"dataframe\">\n",
       "  <thead>\n",
       "    <tr style=\"text-align: right;\">\n",
       "      <th></th>\n",
       "      <th>Code</th>\n",
       "      <th>Area</th>\n",
       "      <th>Highly satisfy with life (rate)</th>\n",
       "      <th>Life expectancy (age)</th>\n",
       "      <th>NVQ4+ leve of working age population (16-64) (percent)</th>\n",
       "      <th>median of personal incomes by tax year</th>\n",
       "    </tr>\n",
       "  </thead>\n",
       "  <tbody>\n",
       "    <tr>\n",
       "      <th>0</th>\n",
       "      <td>E09000001</td>\n",
       "      <td>City of London</td>\n",
       "      <td>NaN</td>\n",
       "      <td>NaN</td>\n",
       "      <td>80.0</td>\n",
       "      <td>61,100</td>\n",
       "    </tr>\n",
       "    <tr>\n",
       "      <th>1</th>\n",
       "      <td>E09000002</td>\n",
       "      <td>Barking and Dagenham</td>\n",
       "      <td>73.65</td>\n",
       "      <td>77.8</td>\n",
       "      <td>32.4</td>\n",
       "      <td>21,800</td>\n",
       "    </tr>\n",
       "    <tr>\n",
       "      <th>2</th>\n",
       "      <td>E09000003</td>\n",
       "      <td>Barnet</td>\n",
       "      <td>79.83</td>\n",
       "      <td>82.2</td>\n",
       "      <td>49.1</td>\n",
       "      <td>27,100</td>\n",
       "    </tr>\n",
       "    <tr>\n",
       "      <th>3</th>\n",
       "      <td>E09000004</td>\n",
       "      <td>Bexley</td>\n",
       "      <td>77.88</td>\n",
       "      <td>80.0</td>\n",
       "      <td>33.6</td>\n",
       "      <td>24,400</td>\n",
       "    </tr>\n",
       "    <tr>\n",
       "      <th>4</th>\n",
       "      <td>E09000005</td>\n",
       "      <td>Brent</td>\n",
       "      <td>82.78</td>\n",
       "      <td>80.3</td>\n",
       "      <td>45.1</td>\n",
       "      <td>22,700</td>\n",
       "    </tr>\n",
       "  </tbody>\n",
       "</table>\n",
       "</div>"
      ],
      "text/plain": [
       "        Code                  Area  Highly satisfy with life (rate)  \\\n",
       "0  E09000001        City of London                              NaN   \n",
       "1  E09000002  Barking and Dagenham                            73.65   \n",
       "2  E09000003                Barnet                            79.83   \n",
       "3  E09000004                Bexley                            77.88   \n",
       "4  E09000005                 Brent                            82.78   \n",
       "\n",
       "   Life expectancy (age)  \\\n",
       "0                    NaN   \n",
       "1                   77.8   \n",
       "2                   82.2   \n",
       "3                   80.0   \n",
       "4                   80.3   \n",
       "\n",
       "   NVQ4+ leve of working age population (16-64) (percent)  \\\n",
       "0                                               80.0        \n",
       "1                                               32.4        \n",
       "2                                               49.1        \n",
       "3                                               33.6        \n",
       "4                                               45.1        \n",
       "\n",
       "  median of personal incomes by tax year  \n",
       "0                                 61,100  \n",
       "1                                 21,800  \n",
       "2                                 27,100  \n",
       "3                                 24,400  \n",
       "4                                 22,700  "
      ]
     },
     "execution_count": 3,
     "metadata": {},
     "output_type": "execute_result"
    }
   ],
   "source": [
    "df_office.head()"
   ]
  },
  {
   "cell_type": "code",
   "execution_count": 4,
   "id": "4e7b8a37-d75f-4625-be84-8640c4239149",
   "metadata": {},
   "outputs": [
    {
     "data": {
      "text/plain": [
       "(33, 6)"
      ]
     },
     "execution_count": 4,
     "metadata": {},
     "output_type": "execute_result"
    }
   ],
   "source": [
    "# print the shape of the DataFrame\n",
    "df_office.shape"
   ]
  },
  {
   "cell_type": "code",
   "execution_count": 5,
   "id": "bc32a03e-7acf-4d60-bfb3-cb59d2ff0371",
   "metadata": {},
   "outputs": [
    {
     "data": {
      "text/plain": [
       "Index(['Code', 'Area', 'Highly satisfy with life (rate)',\n",
       "       'Life expectancy (age)',\n",
       "       'NVQ4+ leve of working age population (16-64) (percent)',\n",
       "       'median of personal incomes by tax year'],\n",
       "      dtype='object')"
      ]
     },
     "execution_count": 5,
     "metadata": {},
     "output_type": "execute_result"
    }
   ],
   "source": [
    "# print the column names\n",
    "df_office.columns"
   ]
  },
  {
   "cell_type": "code",
   "execution_count": 6,
   "id": "499ad88a-8490-4e75-b46e-de952d0ae725",
   "metadata": {},
   "outputs": [
    {
     "name": "stdout",
     "output_type": "stream",
     "text": [
      "Index(['Code', 'Area', 'satisfy', 'expectancy', 'education', 'income'], dtype='object')\n"
     ]
    }
   ],
   "source": [
    "# rename columns\n",
    "df_office = df_office.rename(columns = {'Highly satisfy with life (rate)':'satisfy',\n",
    "                          'Life expectancy (age)':'expectancy',\n",
    "                          'NVQ4+ leve of working age population (16-64) (percent)':'education',\n",
    "                          'median of personal incomes by tax year':'income'})\n",
    "print(df_office.columns)"
   ]
  },
  {
   "cell_type": "code",
   "execution_count": 7,
   "id": "c7599d0e-2b41-442c-b06c-fc94487f02ed",
   "metadata": {},
   "outputs": [
    {
     "data": {
      "text/plain": [
       "Code           object\n",
       "Area           object\n",
       "satisfy       float64\n",
       "expectancy    float64\n",
       "education     float64\n",
       "income         object\n",
       "dtype: object"
      ]
     },
     "execution_count": 7,
     "metadata": {},
     "output_type": "execute_result"
    }
   ],
   "source": [
    "#check datatype\n",
    "df_office.dtypes"
   ]
  },
  {
   "cell_type": "code",
   "execution_count": 10,
   "id": "7a16de5d-07d1-4397-b2c7-896a3711d466",
   "metadata": {},
   "outputs": [
    {
     "data": {
      "text/plain": [
       "Code           object\n",
       "Area           object\n",
       "satisfy       float64\n",
       "expectancy    float64\n",
       "education     float64\n",
       "income        float32\n",
       "dtype: object"
      ]
     },
     "execution_count": 10,
     "metadata": {},
     "output_type": "execute_result"
    }
   ],
   "source": [
    "#change datatype\n",
    "df_office['income'] = df_office['income'].str.replace(',','')\n",
    "df_office['income'] = pd.to_numeric(df_office['income'], downcast='float')\n",
    "\n",
    "df_office.dtypes"
   ]
  },
  {
   "cell_type": "code",
   "execution_count": 11,
   "id": "b7d597e3-3baa-4453-8ea9-bc1d05987bfe",
   "metadata": {},
   "outputs": [
    {
     "data": {
      "text/plain": [
       "<AxesSubplot:xlabel='income', ylabel='expectancy'>"
      ]
     },
     "execution_count": 11,
     "metadata": {},
     "output_type": "execute_result"
    },
    {
     "data": {
      "image/png": "[encoded data removed]",
      "text/plain": [
       "<Figure size 1152x576 with 3 Axes>"
      ]
     },
     "metadata": {
      "needs_background": "light"
     },
     "output_type": "display_data"
    }
   ],
   "source": [
    "# visualize the relationship between the features and the response using scatterplots\n",
    "fig, axs = plt.subplots(1, 3, sharey=True)\n",
    "df_office.plot(kind='scatter', x='satisfy', y='expectancy', ax=axs[0], figsize=(16, 8))\n",
    "df_office.plot(kind='scatter', x='education', y='expectancy', ax=axs[1])\n",
    "df_office.plot(kind='scatter', x='income', y='expectancy', ax=axs[2])"
   ]
  },
  {
   "cell_type": "code",
   "execution_count": 12,
   "id": "5368c62c-2cd4-4ceb-85ee-73abe419f2bb",
   "metadata": {},
   "outputs": [
    {
     "data": {
      "text/html": [
       "<div>\n",
       "<style scoped>\n",
       "    .dataframe tbody tr th:only-of-type {\n",
       "        vertical-align: middle;\n",
       "    }\n",
       "\n",
       "    .dataframe tbody tr th {\n",
       "        vertical-align: top;\n",
       "    }\n",
       "\n",
       "    .dataframe thead th {\n",
       "        text-align: right;\n",
       "    }\n",
       "</style>\n",
       "<table border=\"1\" class=\"dataframe\">\n",
       "  <thead>\n",
       "    <tr style=\"text-align: right;\">\n",
       "      <th></th>\n",
       "      <th>satisfy</th>\n",
       "      <th>expectancy</th>\n",
       "      <th>education</th>\n",
       "      <th>income</th>\n",
       "    </tr>\n",
       "  </thead>\n",
       "  <tbody>\n",
       "    <tr>\n",
       "      <th>satisfy</th>\n",
       "      <td>1.000000</td>\n",
       "      <td>0.525483</td>\n",
       "      <td>0.363571</td>\n",
       "      <td>0.405041</td>\n",
       "    </tr>\n",
       "    <tr>\n",
       "      <th>expectancy</th>\n",
       "      <td>0.525483</td>\n",
       "      <td>1.000000</td>\n",
       "      <td>0.320484</td>\n",
       "      <td>0.579743</td>\n",
       "    </tr>\n",
       "    <tr>\n",
       "      <th>education</th>\n",
       "      <td>0.363571</td>\n",
       "      <td>0.320484</td>\n",
       "      <td>1.000000</td>\n",
       "      <td>0.763065</td>\n",
       "    </tr>\n",
       "    <tr>\n",
       "      <th>income</th>\n",
       "      <td>0.405041</td>\n",
       "      <td>0.579743</td>\n",
       "      <td>0.763065</td>\n",
       "      <td>1.000000</td>\n",
       "    </tr>\n",
       "  </tbody>\n",
       "</table>\n",
       "</div>"
      ],
      "text/plain": [
       "             satisfy  expectancy  education    income\n",
       "satisfy     1.000000    0.525483   0.363571  0.405041\n",
       "expectancy  0.525483    1.000000   0.320484  0.579743\n",
       "education   0.363571    0.320484   1.000000  0.763065\n",
       "income      0.405041    0.579743   0.763065  1.000000"
      ]
     },
     "execution_count": 12,
     "metadata": {},
     "output_type": "execute_result"
    }
   ],
   "source": [
    "df_office.corr()"
   ]
  },
  {
   "cell_type": "code",
   "execution_count": 15,
   "id": "ff526c1b-7d2c-44e5-82da-8d5bc1595c15",
   "metadata": {},
   "outputs": [
    {
     "name": "stdout",
     "output_type": "stream",
     "text": [
      "                            OLS Regression Results                            \n",
      "==============================================================================\n",
      "Dep. Variable:             expectancy   R-squared:                       0.498\n",
      "Model:                            OLS   Adj. R-squared:                  0.445\n",
      "Method:                 Least Squares   F-statistic:                     9.277\n",
      "Date:                Thu, 01 Dec 2022   Prob (F-statistic):           0.000201\n",
      "Time:                        12:56:26   Log-Likelihood:                -43.102\n",
      "No. Observations:                  32   AIC:                             94.20\n",
      "Df Residuals:                      28   BIC:                             100.1\n",
      "Df Model:                           3                                         \n",
      "Covariance Type:            nonrobust                                         \n",
      "==============================================================================\n",
      "                 coef    std err          t      P>|t|      [0.025      0.975]\n",
      "------------------------------------------------------------------------------\n",
      "Intercept     66.4240      3.660     18.151      0.000      58.928      73.920\n",
      "satisfy        0.1252      0.050      2.514      0.018       0.023       0.227\n",
      "education     -0.0493      0.027     -1.850      0.075      -0.104       0.005\n",
      "income         0.0002    7.1e-05      3.367      0.002    9.37e-05       0.000\n",
      "==============================================================================\n",
      "Omnibus:                        0.492   Durbin-Watson:                   2.324\n",
      "Prob(Omnibus):                  0.782   Jarque-Bera (JB):                0.598\n",
      "Skew:                           0.064   Prob(JB):                        0.742\n",
      "Kurtosis:                       2.343   Cond. No.                     5.73e+05\n",
      "==============================================================================\n",
      "\n",
      "Notes:\n",
      "[1] Standard Errors assume that the covariance matrix of the errors is correctly specified.\n",
      "[2] The condition number is large, 5.73e+05. This might indicate that there are\n",
      "strong multicollinearity or other numerical problems.\n"
     ]
    }
   ],
   "source": [
    "# This performs a multiple regression of expectancy against recycling:\n",
    "\n",
    "reg_exp = smf.ols(formula='expectancy ~ satisfy + education + income',data=df_office).fit()\n",
    "\n",
    "# And this gives a big summary of the results:\n",
    "print(reg_exp.summary())"
   ]
  }
 ],
 "metadata": {
  "kernelspec": {
   "display_name": "Python 3 (ipykernel)",
   "language": "python",
   "name": "python3"
  },
  "language_info": {
   "codemirror_mode": {
    "name": "ipython",
    "version": 3
   },
   "file_extension": ".py",
   "mimetype": "text/x-python",
   "name": "python",
   "nbconvert_exporter": "python",
   "pygments_lexer": "ipython3",
   "version": "3.10.5"
  }
 },
 "nbformat": 4,
 "nbformat_minor": 5
}
