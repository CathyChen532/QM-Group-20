{
 "cells": [
  {
   "cell_type": "code",
   "execution_count": 1,
   "id": "915aba3c-45f9-4e7d-a0bf-e2c152870a5b",
   "metadata": {},
   "outputs": [],
   "source": [
    "%matplotlib inline\n",
    "\n",
    "import matplotlib.pyplot as plt\n",
    "import numpy as np\n",
    "import pandas as pd\n",
    "\n",
    "import statsmodels.formula.api as smf\n",
    "import statsmodels"
   ]
  },
  {
   "cell_type": "code",
   "execution_count": 2,
   "id": "7b54ff64-3d4f-4a25-8e2b-892a9be2d009",
   "metadata": {},
   "outputs": [],
   "source": [
    "path = 'https://raw.githubusercontent.com/CathyChen532/QM-Group-20/main/combined_selected_data.csv'\n",
    "df = pd.read_csv(path)"
   ]
  },
  {
   "cell_type": "code",
   "execution_count": 3,
   "id": "875d4af2-ae4f-4724-95dd-82616a5e811a",
   "metadata": {},
   "outputs": [
    {
     "data": {
      "text/html": [
       "<div>\n",
       "<style scoped>\n",
       "    .dataframe tbody tr th:only-of-type {\n",
       "        vertical-align: middle;\n",
       "    }\n",
       "\n",
       "    .dataframe tbody tr th {\n",
       "        vertical-align: top;\n",
       "    }\n",
       "\n",
       "    .dataframe thead th {\n",
       "        text-align: right;\n",
       "    }\n",
       "</style>\n",
       "<table border=\"1\" class=\"dataframe\">\n",
       "  <thead>\n",
       "    <tr style=\"text-align: right;\">\n",
       "      <th></th>\n",
       "      <th>Code</th>\n",
       "      <th>Area</th>\n",
       "      <th>Highly satisfy with life (rate)</th>\n",
       "      <th>Life expectancy (age)</th>\n",
       "      <th>NVQ4+ leve of working age population (16-64) (percent)</th>\n",
       "      <th>median of personal incomes by tax year</th>\n",
       "    </tr>\n",
       "  </thead>\n",
       "  <tbody>\n",
       "    <tr>\n",
       "      <th>0</th>\n",
       "      <td>E09000001</td>\n",
       "      <td>City of London</td>\n",
       "      <td>NaN</td>\n",
       "      <td>NaN</td>\n",
       "      <td>80.0</td>\n",
       "      <td>61100</td>\n",
       "    </tr>\n",
       "    <tr>\n",
       "      <th>1</th>\n",
       "      <td>E09000002</td>\n",
       "      <td>Barking and Dagenham</td>\n",
       "      <td>73.65</td>\n",
       "      <td>77.8</td>\n",
       "      <td>32.4</td>\n",
       "      <td>21800</td>\n",
       "    </tr>\n",
       "    <tr>\n",
       "      <th>2</th>\n",
       "      <td>E09000003</td>\n",
       "      <td>Barnet</td>\n",
       "      <td>79.83</td>\n",
       "      <td>82.2</td>\n",
       "      <td>49.1</td>\n",
       "      <td>27100</td>\n",
       "    </tr>\n",
       "    <tr>\n",
       "      <th>3</th>\n",
       "      <td>E09000004</td>\n",
       "      <td>Bexley</td>\n",
       "      <td>77.88</td>\n",
       "      <td>80.0</td>\n",
       "      <td>33.6</td>\n",
       "      <td>24400</td>\n",
       "    </tr>\n",
       "    <tr>\n",
       "      <th>4</th>\n",
       "      <td>E09000005</td>\n",
       "      <td>Brent</td>\n",
       "      <td>82.78</td>\n",
       "      <td>80.3</td>\n",
       "      <td>45.1</td>\n",
       "      <td>22700</td>\n",
       "    </tr>\n",
       "  </tbody>\n",
       "</table>\n",
       "</div>"
      ],
      "text/plain": [
       "        Code                  Area  Highly satisfy with life (rate)  \\\n",
       "0  E09000001        City of London                              NaN   \n",
       "1  E09000002  Barking and Dagenham                            73.65   \n",
       "2  E09000003                Barnet                            79.83   \n",
       "3  E09000004                Bexley                            77.88   \n",
       "4  E09000005                 Brent                            82.78   \n",
       "\n",
       "   Life expectancy (age)  \\\n",
       "0                    NaN   \n",
       "1                   77.8   \n",
       "2                   82.2   \n",
       "3                   80.0   \n",
       "4                   80.3   \n",
       "\n",
       "   NVQ4+ leve of working age population (16-64) (percent)  \\\n",
       "0                                               80.0        \n",
       "1                                               32.4        \n",
       "2                                               49.1        \n",
       "3                                               33.6        \n",
       "4                                               45.1        \n",
       "\n",
       "   median of personal incomes by tax year  \n",
       "0                                   61100  \n",
       "1                                   21800  \n",
       "2                                   27100  \n",
       "3                                   24400  \n",
       "4                                   22700  "
      ]
     },
     "execution_count": 3,
     "metadata": {},
     "output_type": "execute_result"
    }
   ],
   "source": [
    "# check some example numbers\n",
    "df.head()"
   ]
  },
  {
   "cell_type": "code",
   "execution_count": 4,
   "id": "2d16bb32-756f-42af-a0c2-79bf1f39b9a0",
   "metadata": {},
   "outputs": [
    {
     "data": {
      "text/plain": [
       "(33, 6)"
      ]
     },
     "execution_count": 4,
     "metadata": {},
     "output_type": "execute_result"
    }
   ],
   "source": [
    "# print the shape of the DataFrame\n",
    "df.shape"
   ]
  },
  {
   "cell_type": "code",
   "execution_count": 5,
   "id": "8b8e5887-c887-4ae1-af9a-46736a6cee63",
   "metadata": {},
   "outputs": [
    {
     "data": {
      "text/plain": [
       "Index(['Code', 'Area', 'Highly satisfy with life (rate)',\n",
       "       'Life expectancy (age)',\n",
       "       'NVQ4+ leve of working age population (16-64) (percent)',\n",
       "       'median of personal incomes by tax year'],\n",
       "      dtype='object')"
      ]
     },
     "execution_count": 5,
     "metadata": {},
     "output_type": "execute_result"
    }
   ],
   "source": [
    "# print the column names\n",
    "df.columns"
   ]
  },
  {
   "cell_type": "code",
   "execution_count": 6,
   "id": "db224f52-158c-4865-a372-81181cebc870",
   "metadata": {},
   "outputs": [
    {
     "name": "stdout",
     "output_type": "stream",
     "text": [
      "Index(['Code', 'Area', 'Highly satisfy with life (rate)',\n",
      "       'Life expectancy (age)',\n",
      "       'NVQ4+ leve of working age population (16-64) (percent)',\n",
      "       'median of personal incomes by tax year'],\n",
      "      dtype='object')\n"
     ]
    }
   ],
   "source": [
    "# rename columns\n",
    "df_rename = df.rename(columns = {'Highly satisfy with life (rate)':'satisfy',\n",
    "                          'Life expectancy (age)':'expectancy',\n",
    "                          'NVQ4+ leve of working age population (16-64) (percent)':'education',\n",
    "                          'median of personal incomes by tax year':'income'})\n",
    "print(df.columns)"
   ]
  },
  {
   "cell_type": "code",
   "execution_count": 7,
   "id": "919397c1-bb8a-43b5-9a62-e41bf5d01945",
   "metadata": {},
   "outputs": [
    {
     "data": {
      "text/plain": [
       "Index(['satisfy', 'expectancy', 'education', 'income'], dtype='object')"
      ]
     },
     "execution_count": 7,
     "metadata": {},
     "output_type": "execute_result"
    }
   ],
   "source": [
    "# pick the columns that we need\n",
    "df_pick = df_rename.loc[:,['satisfy', 'expectancy', 'education', 'income']]\n",
    "\n",
    "df_pick.columns"
   ]
  },
  {
   "cell_type": "code",
   "execution_count": 8,
   "id": "673ceed4-0171-47b6-a079-8b9ccbb572aa",
   "metadata": {},
   "outputs": [
    {
     "data": {
      "text/plain": [
       "satisfy       float64\n",
       "expectancy    float64\n",
       "education     float64\n",
       "income          int64\n",
       "dtype: object"
      ]
     },
     "execution_count": 8,
     "metadata": {},
     "output_type": "execute_result"
    }
   ],
   "source": [
    "# check datatype\n",
    "df_pick.dtypes"
   ]
  },
  {
   "cell_type": "code",
   "execution_count": 9,
   "id": "e1359543-3a32-44f9-9ab8-d1f771487d45",
   "metadata": {},
   "outputs": [
    {
     "data": {
      "text/plain": [
       "satisfy       float64\n",
       "expectancy    float64\n",
       "education     float64\n",
       "income        float32\n",
       "dtype: object"
      ]
     },
     "execution_count": 9,
     "metadata": {},
     "output_type": "execute_result"
    }
   ],
   "source": [
    "# change datatype\n",
    "df_pick['income'] = pd.to_numeric(df_pick['income'], downcast='float')\n",
    "\n",
    "df_pick.dtypes"
   ]
  },
  {
   "cell_type": "code",
   "execution_count": 10,
   "id": "ccc40fe4-a3e8-40c4-a4e9-180b730abeb3",
   "metadata": {},
   "outputs": [
    {
     "data": {
      "text/plain": [
       "<AxesSubplot:xlabel='income', ylabel='expectancy'>"
      ]
     },
     "execution_count": 10,
     "metadata": {},
     "output_type": "execute_result"
    },
    {
     "data": {
      "image/png": "[encoded data removed]",
      "text/plain": [
       "<Figure size 1152x576 with 3 Axes>"
      ]
     },
     "metadata": {
      "needs_background": "light"
     },
     "output_type": "display_data"
    }
   ],
   "source": [
    "# visualize the relationship between the features and the response using scatterplots\n",
    "fig, axs = plt.subplots(1, 3, sharey=True)\n",
    "df_pick.plot(kind='scatter', x='satisfy', y='expectancy', ax=axs[0], figsize=(16, 8))\n",
    "df_pick.plot(kind='scatter', x='education', y='expectancy', ax=axs[1])\n",
    "df_pick.plot(kind='scatter', x='income', y='expectancy', ax=axs[2])"
   ]
  },
  {
   "cell_type": "code",
   "execution_count": 11,
   "id": "11d201bd-fe74-40a7-8465-6cca05ce4bd1",
   "metadata": {},
   "outputs": [
    {
     "data": {
      "text/html": [
       "<div>\n",
       "<style scoped>\n",
       "    .dataframe tbody tr th:only-of-type {\n",
       "        vertical-align: middle;\n",
       "    }\n",
       "\n",
       "    .dataframe tbody tr th {\n",
       "        vertical-align: top;\n",
       "    }\n",
       "\n",
       "    .dataframe thead th {\n",
       "        text-align: right;\n",
       "    }\n",
       "</style>\n",
       "<table border=\"1\" class=\"dataframe\">\n",
       "  <thead>\n",
       "    <tr style=\"text-align: right;\">\n",
       "      <th></th>\n",
       "      <th>satisfy</th>\n",
       "      <th>expectancy</th>\n",
       "      <th>education</th>\n",
       "      <th>income</th>\n",
       "    </tr>\n",
       "  </thead>\n",
       "  <tbody>\n",
       "    <tr>\n",
       "      <th>satisfy</th>\n",
       "      <td>1.000000</td>\n",
       "      <td>0.525483</td>\n",
       "      <td>0.363571</td>\n",
       "      <td>0.405041</td>\n",
       "    </tr>\n",
       "    <tr>\n",
       "      <th>expectancy</th>\n",
       "      <td>0.525483</td>\n",
       "      <td>1.000000</td>\n",
       "      <td>0.320484</td>\n",
       "      <td>0.579743</td>\n",
       "    </tr>\n",
       "    <tr>\n",
       "      <th>education</th>\n",
       "      <td>0.363571</td>\n",
       "      <td>0.320484</td>\n",
       "      <td>1.000000</td>\n",
       "      <td>0.763065</td>\n",
       "    </tr>\n",
       "    <tr>\n",
       "      <th>income</th>\n",
       "      <td>0.405041</td>\n",
       "      <td>0.579743</td>\n",
       "      <td>0.763065</td>\n",
       "      <td>1.000000</td>\n",
       "    </tr>\n",
       "  </tbody>\n",
       "</table>\n",
       "</div>"
      ],
      "text/plain": [
       "             satisfy  expectancy  education    income\n",
       "satisfy     1.000000    0.525483   0.363571  0.405041\n",
       "expectancy  0.525483    1.000000   0.320484  0.579743\n",
       "education   0.363571    0.320484   1.000000  0.763065\n",
       "income      0.405041    0.579743   0.763065  1.000000"
      ]
     },
     "execution_count": 11,
     "metadata": {},
     "output_type": "execute_result"
    }
   ],
   "source": [
    "df_pick.corr()"
   ]
  },
  {
   "cell_type": "code",
   "execution_count": 12,
   "id": "67eb157c-25f1-4387-8ed9-6640ac962228",
   "metadata": {},
   "outputs": [
    {
     "name": "stdout",
     "output_type": "stream",
     "text": [
      "                            OLS Regression Results                            \n",
      "==============================================================================\n",
      "Dep. Variable:             expectancy   R-squared:                       0.498\n",
      "Model:                            OLS   Adj. R-squared:                  0.445\n",
      "Method:                 Least Squares   F-statistic:                     9.277\n",
      "Date:                Fri, 02 Dec 2022   Prob (F-statistic):           0.000201\n",
      "Time:                        01:47:12   Log-Likelihood:                -43.102\n",
      "No. Observations:                  32   AIC:                             94.20\n",
      "Df Residuals:                      28   BIC:                             100.1\n",
      "Df Model:                           3                                         \n",
      "Covariance Type:            nonrobust                                         \n",
      "==============================================================================\n",
      "                 coef    std err          t      P>|t|      [0.025      0.975]\n",
      "------------------------------------------------------------------------------\n",
      "Intercept     66.4240      3.660     18.151      0.000      58.928      73.920\n",
      "satisfy        0.1252      0.050      2.514      0.018       0.023       0.227\n",
      "education     -0.0493      0.027     -1.850      0.075      -0.104       0.005\n",
      "income         0.0002    7.1e-05      3.367      0.002    9.37e-05       0.000\n",
      "==============================================================================\n",
      "Omnibus:                        0.492   Durbin-Watson:                   2.324\n",
      "Prob(Omnibus):                  0.782   Jarque-Bera (JB):                0.598\n",
      "Skew:                           0.064   Prob(JB):                        0.742\n",
      "Kurtosis:                       2.343   Cond. No.                     5.73e+05\n",
      "==============================================================================\n",
      "\n",
      "Notes:\n",
      "[1] Standard Errors assume that the covariance matrix of the errors is correctly specified.\n",
      "[2] The condition number is large, 5.73e+05. This might indicate that there are\n",
      "strong multicollinearity or other numerical problems.\n"
     ]
    }
   ],
   "source": [
    "# This performs a multiple regression of expectancy against recycling:\n",
    "\n",
    "reg_exp = smf.ols(formula='expectancy ~ satisfy + education + income',data=df_pick).fit()\n",
    "\n",
    "# And this gives a big summary of the results:\n",
    "print(reg_exp.summary())"
   ]
  },
  {
   "cell_type": "code",
   "execution_count": 13,
   "id": "958fcf81-53a8-481b-a92a-9d731227da9f",
   "metadata": {},
   "outputs": [],
   "source": [
    "# conditional number is large, so calculating VIF to check are there strong multicollinearity\n",
    "# This function is adjusted from: https://stackoverflow.com/a/51329496/4667568\n",
    "from statsmodels.stats.outliers_influence import variance_inflation_factor \n",
    "from statsmodels.tools.tools import add_constant\n",
    "\n",
    "def drop_column_using_vif_(df_pick, thresh=5):\n",
    "    while True:\n",
    "        # adding a constatnt item to the data. add_constant is a function from statsmodels (see the import above)\n",
    "        df_pick_with_const = add_constant(df_pick)\n",
    "\n",
    "        vif_df_pick = pd.Series([variance_inflation_factor(df_pick_with_const.values, i) \n",
    "               for i in range(df_pick_with_const.shape[1])], name= \"VIF\",\n",
    "              index=df_pick_with_const.columns).to_frame()\n",
    "\n",
    "        # drop the const\n",
    "        vif_df_pick = vif_df_pick.drop('const')\n",
    "        \n",
    "        # if the largest VIF is above the thresh, remove a variable with the largest VIF\n",
    "        # If there are multiple variabels with VIF>thresh, only one of them is removed. This is because we want to keep as many variables as possible\n",
    "        if vif_df_pick.VIF.max() > thresh:\n",
    "            # If there are multiple variables with the maximum VIF, choose the first one\n",
    "            index_to_drop = vif_df_pick.index[vif_df_pick.VIF == vif_df_pick.VIF.max()].tolist()[0]\n",
    "            print('Dropping: {}'.format(index_to_drop))\n",
    "            df_pick = df_pick.drop(columns = index_to_drop)\n",
    "        else:\n",
    "            # No VIF is above threshold. Exit the loop\n",
    "            break\n",
    "\n",
    "    return df_pick"
   ]
  },
  {
   "cell_type": "code",
   "execution_count": 14,
   "id": "59f26a8b-e61c-42e6-a722-898035093e48",
   "metadata": {},
   "outputs": [
    {
     "data": {
      "text/html": [
       "<div>\n",
       "<style scoped>\n",
       "    .dataframe tbody tr th:only-of-type {\n",
       "        vertical-align: middle;\n",
       "    }\n",
       "\n",
       "    .dataframe tbody tr th {\n",
       "        vertical-align: top;\n",
       "    }\n",
       "\n",
       "    .dataframe thead th {\n",
       "        text-align: right;\n",
       "    }\n",
       "</style>\n",
       "<table border=\"1\" class=\"dataframe\">\n",
       "  <thead>\n",
       "    <tr style=\"text-align: right;\">\n",
       "      <th></th>\n",
       "      <th>satisfy</th>\n",
       "      <th>expectancy</th>\n",
       "      <th>education</th>\n",
       "      <th>income</th>\n",
       "    </tr>\n",
       "  </thead>\n",
       "  <tbody>\n",
       "    <tr>\n",
       "      <th>0</th>\n",
       "      <td>0.00</td>\n",
       "      <td>0.0</td>\n",
       "      <td>80.0</td>\n",
       "      <td>61100.0</td>\n",
       "    </tr>\n",
       "    <tr>\n",
       "      <th>1</th>\n",
       "      <td>73.65</td>\n",
       "      <td>77.8</td>\n",
       "      <td>32.4</td>\n",
       "      <td>21800.0</td>\n",
       "    </tr>\n",
       "    <tr>\n",
       "      <th>2</th>\n",
       "      <td>79.83</td>\n",
       "      <td>82.2</td>\n",
       "      <td>49.1</td>\n",
       "      <td>27100.0</td>\n",
       "    </tr>\n",
       "    <tr>\n",
       "      <th>3</th>\n",
       "      <td>77.88</td>\n",
       "      <td>80.0</td>\n",
       "      <td>33.6</td>\n",
       "      <td>24400.0</td>\n",
       "    </tr>\n",
       "    <tr>\n",
       "      <th>4</th>\n",
       "      <td>82.78</td>\n",
       "      <td>80.3</td>\n",
       "      <td>45.1</td>\n",
       "      <td>22700.0</td>\n",
       "    </tr>\n",
       "  </tbody>\n",
       "</table>\n",
       "</div>"
      ],
      "text/plain": [
       "   satisfy  expectancy  education   income\n",
       "0     0.00         0.0       80.0  61100.0\n",
       "1    73.65        77.8       32.4  21800.0\n",
       "2    79.83        82.2       49.1  27100.0\n",
       "3    77.88        80.0       33.6  24400.0\n",
       "4    82.78        80.3       45.1  22700.0"
      ]
     },
     "execution_count": 14,
     "metadata": {},
     "output_type": "execute_result"
    }
   ],
   "source": [
    "# delete inf and nan\n",
    "df_pick[np.isnan(df_pick)] = 0\n",
    "df_pick[np.isinf(df_pick)] = 0\n",
    "\n",
    "df_pick.head()"
   ]
  },
  {
   "cell_type": "code",
   "execution_count": 15,
   "id": "06e3f932-1849-4032-a6d4-a4fa4f069dbf",
   "metadata": {},
   "outputs": [
    {
     "name": "stdout",
     "output_type": "stream",
     "text": [
      "Dropping: income\n"
     ]
    },
    {
     "data": {
      "text/html": [
       "<div>\n",
       "<style scoped>\n",
       "    .dataframe tbody tr th:only-of-type {\n",
       "        vertical-align: middle;\n",
       "    }\n",
       "\n",
       "    .dataframe tbody tr th {\n",
       "        vertical-align: top;\n",
       "    }\n",
       "\n",
       "    .dataframe thead th {\n",
       "        text-align: right;\n",
       "    }\n",
       "</style>\n",
       "<table border=\"1\" class=\"dataframe\">\n",
       "  <thead>\n",
       "    <tr style=\"text-align: right;\">\n",
       "      <th></th>\n",
       "      <th>satisfy</th>\n",
       "      <th>education</th>\n",
       "    </tr>\n",
       "  </thead>\n",
       "  <tbody>\n",
       "    <tr>\n",
       "      <th>0</th>\n",
       "      <td>0.00</td>\n",
       "      <td>80.0</td>\n",
       "    </tr>\n",
       "    <tr>\n",
       "      <th>1</th>\n",
       "      <td>73.65</td>\n",
       "      <td>32.4</td>\n",
       "    </tr>\n",
       "    <tr>\n",
       "      <th>2</th>\n",
       "      <td>79.83</td>\n",
       "      <td>49.1</td>\n",
       "    </tr>\n",
       "    <tr>\n",
       "      <th>3</th>\n",
       "      <td>77.88</td>\n",
       "      <td>33.6</td>\n",
       "    </tr>\n",
       "    <tr>\n",
       "      <th>4</th>\n",
       "      <td>82.78</td>\n",
       "      <td>45.1</td>\n",
       "    </tr>\n",
       "  </tbody>\n",
       "</table>\n",
       "</div>"
      ],
      "text/plain": [
       "   satisfy  education\n",
       "0     0.00       80.0\n",
       "1    73.65       32.4\n",
       "2    79.83       49.1\n",
       "3    77.88       33.6\n",
       "4    82.78       45.1"
      ]
     },
     "execution_count": 15,
     "metadata": {},
     "output_type": "execute_result"
    }
   ],
   "source": [
    "# drop columns that are strong multicollinearity\n",
    "df_drop = drop_column_using_vif_(df_pick.drop('expectancy', axis=1))\n",
    "\n",
    "df_drop.head()"
   ]
  },
  {
   "cell_type": "code",
   "execution_count": 16,
   "id": "897ce130-63b3-4267-81f2-59610b1d1d73",
   "metadata": {},
   "outputs": [
    {
     "data": {
      "text/html": [
       "<table class=\"simpletable\">\n",
       "<caption>OLS Regression Results</caption>\n",
       "<tr>\n",
       "  <th>Dep. Variable:</th>       <td>expectancy</td>    <th>  R-squared:         </th> <td>   0.953</td>\n",
       "</tr>\n",
       "<tr>\n",
       "  <th>Model:</th>                   <td>OLS</td>       <th>  Adj. R-squared:    </th> <td>   0.950</td>\n",
       "</tr>\n",
       "<tr>\n",
       "  <th>Method:</th>             <td>Least Squares</td>  <th>  F-statistic:       </th> <td>   304.2</td>\n",
       "</tr>\n",
       "<tr>\n",
       "  <th>Date:</th>             <td>Fri, 02 Dec 2022</td> <th>  Prob (F-statistic):</th> <td>1.21e-20</td>\n",
       "</tr>\n",
       "<tr>\n",
       "  <th>Time:</th>                 <td>01:47:23</td>     <th>  Log-Likelihood:    </th> <td> -83.104</td>\n",
       "</tr>\n",
       "<tr>\n",
       "  <th>No. Observations:</th>      <td>    33</td>      <th>  AIC:               </th> <td>   172.2</td>\n",
       "</tr>\n",
       "<tr>\n",
       "  <th>Df Residuals:</th>          <td>    30</td>      <th>  BIC:               </th> <td>   176.7</td>\n",
       "</tr>\n",
       "<tr>\n",
       "  <th>Df Model:</th>              <td>     2</td>      <th>                     </th>     <td> </td>   \n",
       "</tr>\n",
       "<tr>\n",
       "  <th>Covariance Type:</th>      <td>nonrobust</td>    <th>                     </th>     <td> </td>   \n",
       "</tr>\n",
       "</table>\n",
       "<table class=\"simpletable\">\n",
       "<tr>\n",
       "      <td></td>         <th>coef</th>     <th>std err</th>      <th>t</th>      <th>P>|t|</th>  <th>[0.025</th>    <th>0.975]</th>  \n",
       "</tr>\n",
       "<tr>\n",
       "  <th>const</th>     <td>   12.7245</td> <td>    4.682</td> <td>    2.718</td> <td> 0.011</td> <td>    3.162</td> <td>   22.287</td>\n",
       "</tr>\n",
       "<tr>\n",
       "  <th>satisfy</th>   <td>    0.9192</td> <td>    0.041</td> <td>   22.422</td> <td> 0.000</td> <td>    0.835</td> <td>    1.003</td>\n",
       "</tr>\n",
       "<tr>\n",
       "  <th>education</th> <td>   -0.1117</td> <td>    0.049</td> <td>   -2.264</td> <td> 0.031</td> <td>   -0.212</td> <td>   -0.011</td>\n",
       "</tr>\n",
       "</table>\n",
       "<table class=\"simpletable\">\n",
       "<tr>\n",
       "  <th>Omnibus:</th>       <td> 7.689</td> <th>  Durbin-Watson:     </th> <td>   1.708</td>\n",
       "</tr>\n",
       "<tr>\n",
       "  <th>Prob(Omnibus):</th> <td> 0.021</td> <th>  Jarque-Bera (JB):  </th> <td>   6.125</td>\n",
       "</tr>\n",
       "<tr>\n",
       "  <th>Skew:</th>          <td> 0.894</td> <th>  Prob(JB):          </th> <td>  0.0468</td>\n",
       "</tr>\n",
       "<tr>\n",
       "  <th>Kurtosis:</th>      <td> 4.122</td> <th>  Cond. No.          </th> <td>    797.</td>\n",
       "</tr>\n",
       "</table><br/><br/>Notes:<br/>[1] Standard Errors assume that the covariance matrix of the errors is correctly specified."
      ],
      "text/plain": [
       "<class 'statsmodels.iolib.summary.Summary'>\n",
       "\"\"\"\n",
       "                            OLS Regression Results                            \n",
       "==============================================================================\n",
       "Dep. Variable:             expectancy   R-squared:                       0.953\n",
       "Model:                            OLS   Adj. R-squared:                  0.950\n",
       "Method:                 Least Squares   F-statistic:                     304.2\n",
       "Date:                Fri, 02 Dec 2022   Prob (F-statistic):           1.21e-20\n",
       "Time:                        01:47:23   Log-Likelihood:                -83.104\n",
       "No. Observations:                  33   AIC:                             172.2\n",
       "Df Residuals:                      30   BIC:                             176.7\n",
       "Df Model:                           2                                         \n",
       "Covariance Type:            nonrobust                                         \n",
       "==============================================================================\n",
       "                 coef    std err          t      P>|t|      [0.025      0.975]\n",
       "------------------------------------------------------------------------------\n",
       "const         12.7245      4.682      2.718      0.011       3.162      22.287\n",
       "satisfy        0.9192      0.041     22.422      0.000       0.835       1.003\n",
       "education     -0.1117      0.049     -2.264      0.031      -0.212      -0.011\n",
       "==============================================================================\n",
       "Omnibus:                        7.689   Durbin-Watson:                   1.708\n",
       "Prob(Omnibus):                  0.021   Jarque-Bera (JB):                6.125\n",
       "Skew:                           0.894   Prob(JB):                       0.0468\n",
       "Kurtosis:                       4.122   Cond. No.                         797.\n",
       "==============================================================================\n",
       "\n",
       "Notes:\n",
       "[1] Standard Errors assume that the covariance matrix of the errors is correctly specified.\n",
       "\"\"\""
      ]
     },
     "execution_count": 16,
     "metadata": {},
     "output_type": "execute_result"
    }
   ],
   "source": [
    "#fit a linear regression model\n",
    "import statsmodels.api as sm\n",
    "\n",
    "life_expect = sm.OLS(endog=df_pick[['expectancy']], exog=sm.add_constant(df_drop)).fit()\n",
    "life_expect.summary()"
   ]
  },
  {
   "cell_type": "code",
   "execution_count": null,
   "id": "af13528d-e456-471e-afd1-d77129f73af1",
   "metadata": {},
   "outputs": [],
   "source": []
  }
 ],
 "metadata": {
  "kernelspec": {
   "display_name": "Python 3 (ipykernel)",
   "language": "python",
   "name": "python3"
  },
  "language_info": {
   "codemirror_mode": {
    "name": "ipython",
    "version": 3
   },
   "file_extension": ".py",
   "mimetype": "text/x-python",
   "name": "python",
   "nbconvert_exporter": "python",
   "pygments_lexer": "ipython3",
   "version": "3.10.5"
  }
 },
 "nbformat": 4,
 "nbformat_minor": 5
}
